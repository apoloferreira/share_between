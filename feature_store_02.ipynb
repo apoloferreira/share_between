{
 "cells": [
  {
   "cell_type": "code",
   "execution_count": null,
   "id": "ce5dd026",
   "metadata": {},
   "outputs": [],
   "source": [
    "import os\n",
    "import re\n",
    "import sys\n",
    "import math\n",
    "import json\n",
    "import time\n",
    "import warnings\n",
    "import logging\n",
    "import boto3\n",
    "import botocore\n",
    "import sagemaker\n",
    "import numpy as np\n",
    "import pandas as pd\n",
    "\n",
    "from __future__ import annotations\n",
    "from time import gmtime, strftime\n",
    "from datetime import datetime, timezone, date\n",
    "from platformdirs import site_config_dir, user_config_dir\n",
    "from IPython.display import Image\n",
    "from IPython.display import display\n",
    "from IPython.display import FileLink, FileLinks\n",
    "from sklearn.metrics import roc_auc_score\n",
    "from sklearn.preprocessing import MinMaxScaler, LabelEncoder\n",
    "\n",
    "# from sagemaker import Session\n",
    "from sagemaker.session import Session\n",
    "from sagemaker import get_execution_role\n",
    "from sagemaker.experiments.run import Run, load_run\n",
    "from sagemaker.sklearn.processing import SKLearnProcessor\n",
    "from sagemaker.spark.processing import PySparkProcessor\n",
    "from sagemaker.processing import ProcessingInput, ProcessingOutput\n",
    "from sagemaker.debugger import Rule, ProfilerRule, rule_configs\n",
    "from sagemaker.remote_function import remote, RemoteExecutor\n",
    "from sagemaker.tuner import (\n",
    "    CategoricalParameter, ContinuousParameter,\n",
    "    HyperparameterTuner, IntegerParameter,\n",
    ")\n",
    "from sagemaker.feature_store.feature_store import FeatureStore\n",
    "from sagemaker.feature_store.feature_group import FeatureGroup\n",
    "from sagemaker.feature_store.inputs import FeatureParameter, TableFormatEnum, DataCatalogConfig, OnlineStoreStorageTypeEnum\n",
    "from sagemaker.feature_store.feature_definition import StringFeatureDefinition\n",
    "from sagemaker.feature_store.feature_definition import FeatureDefinition, FeatureTypeEnum\n",
    "from sagemaker.feature_store.feature_utils import get_feature_group_as_dataframe"
   ]
  },
  {
   "cell_type": "raw",
   "id": "ad81c638-18c7-49b5-894e-9fb3bb34f3b8",
   "metadata": {},
   "source": [
    "# DOCS\n",
    "https://sagemaker.readthedocs.io/en/stable/amazon_sagemaker_featurestore.html\n",
    "https://sagemaker.readthedocs.io/en/v2.121.0/api/prep_data/feature_store.html\n",
    "https://sagemaker.readthedocs.io/en/v2.121.0/api/prep_data/feature_store.html#sagemaker.feature_store.inputs.DataCatalogConfig"
   ]
  },
  {
   "cell_type": "code",
   "execution_count": 2,
   "id": "a700691e-1b22-42cb-912e-5b2208a11d1e",
   "metadata": {},
   "outputs": [],
   "source": [
    "logger = logging.getLogger('__name__')\n",
    "logger.setLevel(logging.DEBUG)\n",
    "logger.addHandler(logging.StreamHandler())"
   ]
  },
  {
   "cell_type": "code",
   "execution_count": 119,
   "id": "9d485529-1905-4682-8e88-c6967f58cb0b",
   "metadata": {},
   "outputs": [],
   "source": [
    "boto_session = boto3.Session()\n",
    "client_sagemaker = boto_session.client(\"sagemaker\")\n",
    "client_s3 = boto_session.client(\"s3\")\n",
    "sagemaker_session = sagemaker.Session()\n",
    "sagemaker_role = sagemaker.get_execution_role()\n",
    "bucket_name = sagemaker_session.default_bucket()"
   ]
  },
  {
   "cell_type": "markdown",
   "id": "94315851-2167-419c-a5a6-bfd4a3e3c28e",
   "metadata": {},
   "source": [
    "## Carregando dados"
   ]
  },
  {
   "cell_type": "code",
   "execution_count": null,
   "id": "9f2d27f3",
   "metadata": {},
   "outputs": [],
   "source": [
    "class DataHelper:\n",
    "\n",
    "    @staticmethod\n",
    "    def generate_event_timestamp() -> str:\n",
    "        return datetime.now().isoformat(timespec='seconds')\n",
    "\n",
    "    @classmethod\n",
    "    def create_event_time_column(cls, df: pd.DataFrame) -> pd.DataFrame:\n",
    "        columns = list(df.columns)\n",
    "        if \"event_time\" not in columns:\n",
    "            df['event_time'] = cls.generate_event_timestamp()\n",
    "            return df[['event_time'] + list(columns)]\n",
    "        columns.remove('event_time')\n",
    "        return df[['event_time'] + list(columns)]\n",
    "\n",
    "    @staticmethod\n",
    "    def rename_columns(col_name: str) -> str:\n",
    "        return (\n",
    "            col_name\n",
    "            .replace('.', '_')\n",
    "            .replace('-', '_')\n",
    "            .rstrip('_')\n",
    "        )\n",
    "\n",
    "    @staticmethod\n",
    "    def convert_dtypes(df: pd.DataFrame) -> pd.DataFrame:\n",
    "        return pd.DataFrame.convert_dtypes(\n",
    "            df,\n",
    "            infer_objects=True,\n",
    "            convert_string=True,\n",
    "            convert_integer=True,\n",
    "            convert_boolean=False,\n",
    "            convert_floating=True,\n",
    "            dtype_backend=\"numpy_nullable\",\n",
    "        )\n",
    "\n",
    "    @staticmethod\n",
    "    def convert_object_to_string(df: pd.DataFrame) -> pd.DataFrame:\n",
    "        object_columns = df.select_dtypes(include=['object']).columns\n",
    "        for col in object_columns:\n",
    "            df[col] = df[col].astype(\"string[python]\")\n",
    "        return df\n",
    "\n",
    "    @classmethod\n",
    "    def prepare_date(cls, df: pd.DataFrame, limit: bool = False) -> pd.DataFrame:\n",
    "        if limit:\n",
    "            df = df.head(10)\n",
    "        # df = cls.convert_dtypes(df).rename(columns=cls.rename_columns)\n",
    "        # return cls.convert_object_to_string(cls.create_event_time_column(df))\n",
    "        return (\n",
    "            cls.convert_dtypes(df)\n",
    "            .rename(columns=cls.rename_columns)\n",
    "            .pipe(cls.create_event_time_column)\n",
    "\t\t\t.pipe(cls.convert_object_to_string)\n",
    "\t\t)"
   ]
  },
  {
   "cell_type": "code",
   "execution_count": 279,
   "id": "99f5b395-2081-4273-bbc2-b562d987c7b4",
   "metadata": {},
   "outputs": [],
   "source": [
    "def generate_event_timestamp() -> str:\n",
    "    return datetime.now().isoformat(timespec='seconds')\n",
    "\n",
    "\n",
    "def rename_columns(col_name: str):\n",
    "    return (\n",
    "        col_name\n",
    "        .replace('.', '_')\n",
    "        .replace('-', '_')\n",
    "        .rstrip('_')\n",
    "    )\n",
    "\n",
    "\n",
    "def convert_dtypes(df: pd.DataFrame) -> pd.DataFrame:\n",
    "    return pd.DataFrame.convert_dtypes(\n",
    "        df,\n",
    "        infer_objects=True,\n",
    "        convert_string=True,\n",
    "        convert_integer=True,\n",
    "        convert_boolean=False,\n",
    "        convert_floating=True,\n",
    "        dtype_backend=\"numpy_nullable\",\n",
    "    )"
   ]
  },
  {
   "cell_type": "code",
   "execution_count": 280,
   "id": "6527e9f7-8eca-43d4-b7b5-38b9fe903ea2",
   "metadata": {},
   "outputs": [],
   "source": [
    "# df_clientes = convert_dtypes(pd.read_csv('data/clientes.csv')).rename(columns=rename_columns)\n",
    "# df_pedidos = convert_dtypes(pd.read_csv('data/pedidos.csv')).rename(columns=rename_columns)\n",
    "# df_produtos = convert_dtypes(pd.read_csv('data/produtos.csv')).rename(columns=rename_columns)\n",
    "\n",
    "df_clientes = DataHelper.prepare_date(pd.read_csv('data/clientes.csv'))\n",
    "df_pedidos = DataHelper.prepare_date(pd.read_csv('data/pedidos.csv'))\n",
    "df_produtos = DataHelper.prepare_date(pd.read_csv('data/produtos.csv'))"
   ]
  },
  {
   "cell_type": "code",
   "execution_count": 281,
   "id": "59bab6f3-84d4-4c52-aed9-48740c3e88de",
   "metadata": {},
   "outputs": [
    {
     "name": "stdout",
     "output_type": "stream",
     "text": [
      "df_clientes: (10000, 11)\n",
      "df_pedidos:  (100000, 7)\n",
      "df_produtos: (17001, 22)\n"
     ]
    }
   ],
   "source": [
    "print(f\"df_clientes: {df_clientes.shape}\")\n",
    "print(f\"df_pedidos:  {df_pedidos.shape}\")\n",
    "print(f\"df_produtos: {df_produtos.shape}\")"
   ]
  },
  {
   "cell_type": "code",
   "execution_count": 282,
   "id": "b9e9a288-ed66-430e-beed-b565e8b9f5aa",
   "metadata": {},
   "outputs": [
    {
     "data": {
      "text/plain": [
       "event_time        string[python]\n",
       "id_cliente        string[python]\n",
       "genero                     Int64\n",
       "casado                     Int64\n",
       "idade_18_29                Int64\n",
       "idade_30_39                Int64\n",
       "idade_40_49                Int64\n",
       "idade_50_59                Int64\n",
       "idade_60_69                Int64\n",
       "idade_70_plus              Int64\n",
       "num_dias_ativo           Float64\n",
       "dtype: object"
      ]
     },
     "execution_count": 282,
     "metadata": {},
     "output_type": "execute_result"
    }
   ],
   "source": [
    "df_clientes.dtypes"
   ]
  },
  {
   "cell_type": "markdown",
   "id": "6f1c147a-6c22-4ee8-b991-34c29efb5aa2",
   "metadata": {},
   "source": [
    "## Utils"
   ]
  },
  {
   "cell_type": "code",
   "execution_count": 264,
   "id": "c36ce4ee-edb0-4f6a-8e4f-2b429fa949e2",
   "metadata": {},
   "outputs": [
    {
     "data": {
      "text/plain": [
       "'2025-04-19T15:41:36'"
      ]
     },
     "execution_count": 264,
     "metadata": {},
     "output_type": "execute_result"
    }
   ],
   "source": [
    "DataHelper.generate_event_timestamp()"
   ]
  },
  {
   "cell_type": "markdown",
   "id": "bd603ed6-942e-40a3-8d5d-6340076e5c15",
   "metadata": {},
   "source": [
    "## Classes"
   ]
  },
  {
   "cell_type": "code",
   "execution_count": 265,
   "id": "91ae281d-0530-42e7-a48f-514e9a090f94",
   "metadata": {},
   "outputs": [],
   "source": [
    "# client_fs_runtime = sm_session.boto_session.client(\n",
    "#     service_name=\"sagemaker-featurestore-runtime\",\n",
    "#     region_name=sagemaker_session.boto_session.region_name\n",
    "# )\n",
    "\n",
    "# feature_store_session = sagemaker_session(\n",
    "#     boto_session=boto_session,\n",
    "#     sagemaker_client=client_sagemaker,\n",
    "#     sagemaker_featurestore_runtime_client=client_fs_runtime,\n",
    "# )"
   ]
  },
  {
   "cell_type": "code",
   "execution_count": null,
   "id": "51578650-7864-4ed2-b8ec-43fe6b2ddf64",
   "metadata": {},
   "outputs": [],
   "source": [
    "class FeatureStoreHandler:\n",
    "\n",
    "    _instance: FeatureStoreHandler | None = None\n",
    "    _initialized: bool = False\n",
    "\n",
    "    def __new__(cls, *args, **kwargs) -> FeatureStoreHandler:\n",
    "        # print(\"new\")\n",
    "        if cls._instance is None:\n",
    "            # print(\"new - instance\")\n",
    "            cls._instance = super().__new__(cls)\n",
    "        return cls._instance\n",
    "\n",
    "    def __init__(self, sm_session: sagemaker.Session, sm_role: str):\n",
    "        # print(\"init\")\n",
    "        if self._initialized:\n",
    "            # print(\"init - instance\")\n",
    "            return\n",
    "        self._initialized = True\n",
    "        self.sm_session = sm_session\n",
    "        self.sm_role = sm_role\n",
    "        self.client_sm = sm_session.boto_session.client(service_name=\"sagemaker\")\n",
    "        self.client_sm_fsr = self.create_client_sm_fs()\n",
    "        self.feature_store_session = Session(\n",
    "            boto_session=sm_session.boto_session,\n",
    "            sagemaker_client=self.client_sm,\n",
    "            sagemaker_featurestore_runtime_client=self.client_sm_fsr,\n",
    "        )\n",
    "        self.feature_store = FeatureStore(sagemaker_session=self.feature_store_session)\n",
    "        self.data_helper = DataHelper()\n",
    "\n",
    "    def create_client_sm_fs(self):\n",
    "        return self.sm_session.boto_session.client(\n",
    "            service_name=\"sagemaker-featurestore-runtime\",\n",
    "            region_name=self.sm_session.boto_session.region_name\n",
    "        )\n",
    "\n",
    "    @classmethod\n",
    "    def get_dataset(cls, fg_name: str, output_location: str = \"s3://athena-query-result-891377318910/feature-store/\"):\n",
    "        df_result, query = cls.feature_store.create_dataset(\n",
    "            base=fg_name,\n",
    "            output_path=output_location\n",
    "        ).to_dataframe()\n",
    "        return df_result, query"
   ]
  },
  {
   "cell_type": "code",
   "execution_count": 290,
   "id": "1d16024e-0754-4c58-be0d-55ef2ec7c058",
   "metadata": {},
   "outputs": [],
   "source": [
    "class FeatureGroupHandler:\n",
    "\n",
    "    def __init__(self, feature_store: FeatureStoreHandler, name: str):\n",
    "        self.feature_store = feature_store\n",
    "        self.name = name\n",
    "        # self.sm_session = sm_session\n",
    "        # self.client_sm = sm_session.boto_session.client(service_name=\"sagemaker\")\n",
    "        # self.client_sm_fsr = self.create_client_sm_fs()\n",
    "        self.feature_group = FeatureGroup(name=name, sagemaker_session=self.feature_store.sm_session)\n",
    "        self.definitions = None\n",
    "\n",
    "    # def create_client_sm_fs(self):\n",
    "    #     return self.sm_session.boto_session.client(\n",
    "    #         service_name=\"sagemaker-featurestore-runtime\",\n",
    "    #         region_name=self.sm_session.boto_session.region_name\n",
    "    #     )\n",
    "\n",
    "    def create_by_df(self, df: pd.DataFrame, bucket: str, prefix: str, fg_id: str, fg_time: str = \"event_time\"):\n",
    "        if self.check_if_exist():\n",
    "            print(\"Feature Group existente!\")\n",
    "            return\n",
    "        assert \"_event_time\" not in df.columns, KeyError(\"Renomei a coluna '_event_time'.\")\n",
    "        df = self.feature_store.data_helper.prepare_date(df, limit=True)\n",
    "        self.definitions = self.feature_group.load_feature_definitions(data_frame=df)\n",
    "        print(f\"definitions: \", self.definitions)\n",
    "        self.create(bucket, prefix, fg_id, fg_time)\n",
    "        self.wait_for_creation_complete()\n",
    "\n",
    "    def check_if_exist(self) -> bool:\n",
    "        feature_groups = self.feature_store.client_sm.search(Resource=\"FeatureGroup\")\n",
    "        fg_names = [ft['FeatureGroup']['FeatureGroupName'] for ft in feature_groups['Results']]\n",
    "        return self.name in fg_names\n",
    "\n",
    "    def create(self, bucket: str, prefix: str, fg_id: str, fg_time: str) -> None:\n",
    "        self.feature_group.create(\n",
    "            feature_group_name=self.name,\n",
    "            s3_uri=f's3://{bucket}/{prefix}/{self.name}',\n",
    "            record_identifier_name=fg_id,\n",
    "            event_time_feature_name=fg_time,\n",
    "            role_arn=self.feature_store.sm_role,\n",
    "            enable_online_store=False,\n",
    "            disable_glue_table_creation=False,\n",
    "            table_format=TableFormatEnum.GLUE,  # ICEBERG | GLUE\n",
    "            # data_catalog_config = \"\",\n",
    "        )\n",
    "\n",
    "    def wait_for_creation_complete(self) -> None:\n",
    "        status = self.feature_group.describe().get('FeatureGroupStatus')\n",
    "        while status == 'Creating':\n",
    "            print(f'Waiting for feature group: {self.feature_group.name} to be created ...')\n",
    "            time.sleep(5)\n",
    "            status = self.feature_group.describe().get('FeatureGroupStatus')\n",
    "        if status != 'Created':\n",
    "            raise SystemExit(f'Failed to create feature group {self.feature_group.name}: {status}')\n",
    "        print(f'FeatureGroup {self.feature_group.name} was successfully created.')\n",
    "\n",
    "    def ingest_data(self, df: pd.DataFrame, max_workers: int | None = None, wait: bool = True) -> None:\n",
    "        if not max_workers:\n",
    "            max_workers = os.cpu_count()\n",
    "        df = self.feature_store.data_helper.prepare_date(df)\n",
    "        # Validade schema before ingest\n",
    "        self.feature_group.ingest(\n",
    "            data_frame=df,\n",
    "            max_workers=max_workers,\n",
    "            wait=wait\n",
    "        )\n",
    "\n",
    "    def get_record(self, fg_name: str) -> dict:\n",
    "        return self.feature_store.client_sm_fsr.get_record(\n",
    "            FeatureGroupName=self.name,\n",
    "            RecordIdentifierValueAsString=str(fg_name)\n",
    "        )\n",
    "\n",
    "    def get_record_as_df(self, fg_name: str) -> pd.DataFrame:\n",
    "        record = self.get_record(fg_name)\n",
    "        return self.feature_store.data_helper.convert_dtypes(\n",
    "            pd.DataFrame.from_records(record['Record'])\n",
    "        )\n",
    "\n",
    "    def list_features_group(self) -> list:\n",
    "        response = self.client_sm.list_features_group()\n",
    "        return response.get('FeatureGroupSummaries', [])\n",
    "\n",
    "    def delete(self):\n",
    "        self.feature_group.delete()\n",
    "\n",
    "    def get_description(self):\n",
    "        return self.feature_group.describe()\n",
    "\n",
    "    def get_description_as_hive(self):\n",
    "        return self.feature_group.as_hive_ddl()\n",
    "\n",
    "    def get_feature_description(self, fg_name: str):\n",
    "        return self.feature_group.describe_feature_metadata(fg_name)\n",
    "\n",
    "    def query_athena(self, query: str, output_location: str = \"s3://athena-query-result-891377318910/feature-store/\") -> pd.DataFrame:\n",
    "        fg_query = self.feature_group.athena_query()\n",
    "        formated_query = query.format(fg=f'\"{fg_query.table_name}\"')\n",
    "        print(formated_query)\n",
    "        fg_query.run(query_string=formated_query, output_location=output_location)\n",
    "        fg_query.wait()\n",
    "        return self.feature_store.data_helper.convert_dtypes(fg_query.as_dataframe())\n",
    "\n",
    "    def update_feature(self, fg_name: str, fg_desc: str) -> None:\n",
    "        self.feature_group.update_feature_metadata(\n",
    "            feature_name=fg_name,\n",
    "            description=fg_desc,\n",
    "            # feature_additions = [StringFeatureDefinition(ft_name)]\n",
    "            # parameter_additions = [FeatureParameter(key=\"idType\", value=\"primarykey\")]\n",
    "        )\n",
    "\n",
    "    # @property\n",
    "    # def feature_group(self):\n",
    "    #     return self._feature_group"
   ]
  },
  {
   "cell_type": "markdown",
   "id": "5e088118-d168-4b08-bdc6-7334564cf199",
   "metadata": {},
   "source": [
    "## Feature Group"
   ]
  },
  {
   "cell_type": "code",
   "execution_count": 291,
   "id": "13416667-737d-4225-931d-6fe0fe71c33a",
   "metadata": {},
   "outputs": [
    {
     "name": "stdout",
     "output_type": "stream",
     "text": [
      "df_clientes: (10000, 11)\n",
      "df_pedidos:  (100000, 7)\n",
      "df_produtos: (17001, 22)\n"
     ]
    }
   ],
   "source": [
    "print(f\"df_clientes: {df_clientes.shape}\")\n",
    "print(f\"df_pedidos:  {df_pedidos.shape}\")\n",
    "print(f\"df_produtos: {df_produtos.shape}\")"
   ]
  },
  {
   "cell_type": "code",
   "execution_count": 292,
   "id": "ffe0e24e-5651-49ec-bc40-0d451acd9c7e",
   "metadata": {},
   "outputs": [
    {
     "data": {
      "text/html": [
       "<div>\n",
       "<style scoped>\n",
       "    .dataframe tbody tr th:only-of-type {\n",
       "        vertical-align: middle;\n",
       "    }\n",
       "\n",
       "    .dataframe tbody tr th {\n",
       "        vertical-align: top;\n",
       "    }\n",
       "\n",
       "    .dataframe thead th {\n",
       "        text-align: right;\n",
       "    }\n",
       "</style>\n",
       "<table border=\"1\" class=\"dataframe\">\n",
       "  <thead>\n",
       "    <tr style=\"text-align: right;\">\n",
       "      <th></th>\n",
       "      <th>event_time</th>\n",
       "      <th>id_cliente</th>\n",
       "      <th>genero</th>\n",
       "      <th>casado</th>\n",
       "      <th>idade_18_29</th>\n",
       "      <th>idade_30_39</th>\n",
       "      <th>idade_40_49</th>\n",
       "      <th>idade_50_59</th>\n",
       "      <th>idade_60_69</th>\n",
       "      <th>idade_70_plus</th>\n",
       "      <th>num_dias_ativo</th>\n",
       "    </tr>\n",
       "  </thead>\n",
       "  <tbody>\n",
       "    <tr>\n",
       "      <th>0</th>\n",
       "      <td>2024-11-27T04:57:49.698Z</td>\n",
       "      <td>C1</td>\n",
       "      <td>0</td>\n",
       "      <td>0</td>\n",
       "      <td>0</td>\n",
       "      <td>0</td>\n",
       "      <td>0</td>\n",
       "      <td>1</td>\n",
       "      <td>0</td>\n",
       "      <td>0</td>\n",
       "      <td>0.083562</td>\n",
       "    </tr>\n",
       "    <tr>\n",
       "      <th>1</th>\n",
       "      <td>2024-11-27T04:57:49.702Z</td>\n",
       "      <td>C2</td>\n",
       "      <td>1</td>\n",
       "      <td>0</td>\n",
       "      <td>1</td>\n",
       "      <td>0</td>\n",
       "      <td>0</td>\n",
       "      <td>0</td>\n",
       "      <td>0</td>\n",
       "      <td>0</td>\n",
       "      <td>0.659589</td>\n",
       "    </tr>\n",
       "    <tr>\n",
       "      <th>2</th>\n",
       "      <td>2024-11-27T04:57:49.708Z</td>\n",
       "      <td>C3</td>\n",
       "      <td>1</td>\n",
       "      <td>1</td>\n",
       "      <td>0</td>\n",
       "      <td>0</td>\n",
       "      <td>0</td>\n",
       "      <td>0</td>\n",
       "      <td>1</td>\n",
       "      <td>0</td>\n",
       "      <td>0.402055</td>\n",
       "    </tr>\n",
       "  </tbody>\n",
       "</table>\n",
       "</div>"
      ],
      "text/plain": [
       "                 event_time id_cliente  genero  casado  idade_18_29  \\\n",
       "0  2024-11-27T04:57:49.698Z         C1       0       0            0   \n",
       "1  2024-11-27T04:57:49.702Z         C2       1       0            1   \n",
       "2  2024-11-27T04:57:49.708Z         C3       1       1            0   \n",
       "\n",
       "   idade_30_39  idade_40_49  idade_50_59  idade_60_69  idade_70_plus  \\\n",
       "0            0            0            1            0              0   \n",
       "1            0            0            0            0              0   \n",
       "2            0            0            0            1              0   \n",
       "\n",
       "   num_dias_ativo  \n",
       "0        0.083562  \n",
       "1        0.659589  \n",
       "2        0.402055  "
      ]
     },
     "execution_count": 292,
     "metadata": {},
     "output_type": "execute_result"
    }
   ],
   "source": [
    "df_clientes.head(3)"
   ]
  },
  {
   "cell_type": "code",
   "execution_count": 270,
   "id": "a18c0b9e-2249-4534-8d70-98a3275a4e53",
   "metadata": {},
   "outputs": [],
   "source": [
    "feature_store = FeatureStoreHandler(sm_session=sagemaker_session, sm_role=sagemaker_role)"
   ]
  },
  {
   "cell_type": "code",
   "execution_count": 293,
   "id": "5e81200d-c19e-4520-be71-bcaf34c322d8",
   "metadata": {},
   "outputs": [],
   "source": [
    "feature_group_name = \"clientes_feature_group\"\n",
    "fs_prefix = f\"workshop_v2/feature-store/{feature_group_name}\"\n",
    "fg_id = \"id_cliente\"\n",
    "fg_time = \"event_time\""
   ]
  },
  {
   "cell_type": "code",
   "execution_count": 294,
   "id": "bd2df5f9-bfca-415f-bb77-63e70df4b6e7",
   "metadata": {},
   "outputs": [],
   "source": [
    "feature_group = FeatureGroupHandler(feature_store=feature_store, name=feature_group_name)"
   ]
  },
  {
   "cell_type": "code",
   "execution_count": 295,
   "id": "54c395ca-a199-46b4-8bd7-4cb7fca74dfe",
   "metadata": {},
   "outputs": [
    {
     "name": "stdout",
     "output_type": "stream",
     "text": [
      "Feature Group existente!\n"
     ]
    }
   ],
   "source": [
    "feature_group.create_by_df(\n",
    "    df_clientes,\n",
    "    bucket_name,\n",
    "    fs_prefix,\n",
    "    fg_id,\n",
    "    fg_time\n",
    ")"
   ]
  },
  {
   "cell_type": "code",
   "execution_count": 109,
   "id": "19ac3de1-9d32-468d-a0c4-77ee61089080",
   "metadata": {},
   "outputs": [],
   "source": [
    "# feature_group.list_features_group()"
   ]
  },
  {
   "cell_type": "code",
   "execution_count": 305,
   "id": "585c4b13-7fb1-4ebf-bbe8-cb0eeb8b6aa0",
   "metadata": {},
   "outputs": [],
   "source": [
    "# feature_group.delete()"
   ]
  },
  {
   "cell_type": "code",
   "execution_count": 302,
   "id": "95bbe587-fb35-45d7-87b6-1a879926d562",
   "metadata": {},
   "outputs": [
    {
     "name": "stdout",
     "output_type": "stream",
     "text": [
      "SELECT * FROM \"clientes_feature_group_1745077301\" LIMIT 100\n"
     ]
    },
    {
     "data": {
      "text/html": [
       "<pre style=\"white-space:pre;overflow-x:auto;line-height:normal;font-family:Menlo,'DejaVu Sans Mono',consolas,'Courier New',monospace\"><span style=\"color: #7fbfbf; text-decoration-color: #7fbfbf\">[04/19/25 16:03:30] </span><span style=\"color: #0069ff; text-decoration-color: #0069ff; font-weight: bold\">INFO    </span> Query <span style=\"color: #ffff00; text-decoration-color: #ffff00\">aa12073c-1484-482d-b6d3-9aa44be79c48</span> is being executed.          <a href=\"file:///home/sagemaker-user/.conda/envs/venv_fs/lib/python3.10/site-packages/sagemaker/session.py\" target=\"_blank\"><span style=\"color: #7f7f7f; text-decoration-color: #7f7f7f\">session.py</span></a><span style=\"color: #7f7f7f; text-decoration-color: #7f7f7f\">:</span><a href=\"file:///home/sagemaker-user/.conda/envs/venv_fs/lib/python3.10/site-packages/sagemaker/session.py#6745\" target=\"_blank\"><span style=\"color: #7f7f7f; text-decoration-color: #7f7f7f\">6745</span></a>\n",
       "</pre>\n"
      ],
      "text/plain": [
       "\u001b[2;36m[04/19/25 16:03:30]\u001b[0m\u001b[2;36m \u001b[0m\u001b[1;38;2;0;105;255mINFO    \u001b[0m Query \u001b[93maa12073c-1484-482d-b6d3-9aa44be79c48\u001b[0m is being executed.          \u001b]8;id=129891;file:///home/sagemaker-user/.conda/envs/venv_fs/lib/python3.10/site-packages/sagemaker/session.py\u001b\\\u001b[2msession.py\u001b[0m\u001b]8;;\u001b\\\u001b[2m:\u001b[0m\u001b]8;id=235186;file:///home/sagemaker-user/.conda/envs/venv_fs/lib/python3.10/site-packages/sagemaker/session.py#6745\u001b\\\u001b[2m6745\u001b[0m\u001b]8;;\u001b\\\n"
      ]
     },
     "metadata": {},
     "output_type": "display_data"
    },
    {
     "data": {
      "text/html": [
       "<pre style=\"white-space:pre;overflow-x:auto;line-height:normal;font-family:Menlo,'DejaVu Sans Mono',consolas,'Courier New',monospace\"><span style=\"color: #7fbfbf; text-decoration-color: #7fbfbf\">[04/19/25 16:03:35] </span><span style=\"color: #0069ff; text-decoration-color: #0069ff; font-weight: bold\">INFO    </span> Query <span style=\"color: #ffff00; text-decoration-color: #ffff00\">aa12073c-1484-482d-b6d3-9aa44be79c48</span> successfully executed.      <a href=\"file:///home/sagemaker-user/.conda/envs/venv_fs/lib/python3.10/site-packages/sagemaker/session.py\" target=\"_blank\"><span style=\"color: #7f7f7f; text-decoration-color: #7f7f7f\">session.py</span></a><span style=\"color: #7f7f7f; text-decoration-color: #7f7f7f\">:</span><a href=\"file:///home/sagemaker-user/.conda/envs/venv_fs/lib/python3.10/site-packages/sagemaker/session.py#6754\" target=\"_blank\"><span style=\"color: #7f7f7f; text-decoration-color: #7f7f7f\">6754</span></a>\n",
       "</pre>\n"
      ],
      "text/plain": [
       "\u001b[2;36m[04/19/25 16:03:35]\u001b[0m\u001b[2;36m \u001b[0m\u001b[1;38;2;0;105;255mINFO    \u001b[0m Query \u001b[93maa12073c-1484-482d-b6d3-9aa44be79c48\u001b[0m successfully executed.      \u001b]8;id=392906;file:///home/sagemaker-user/.conda/envs/venv_fs/lib/python3.10/site-packages/sagemaker/session.py\u001b\\\u001b[2msession.py\u001b[0m\u001b]8;;\u001b\\\u001b[2m:\u001b[0m\u001b]8;id=177482;file:///home/sagemaker-user/.conda/envs/venv_fs/lib/python3.10/site-packages/sagemaker/session.py#6754\u001b\\\u001b[2m6754\u001b[0m\u001b]8;;\u001b\\\n"
      ]
     },
     "metadata": {},
     "output_type": "display_data"
    }
   ],
   "source": [
    "query = 'SELECT * FROM {fg} LIMIT 100'\n",
    "\n",
    "df = feature_group.query_athena(query)"
   ]
  },
  {
   "cell_type": "code",
   "execution_count": 303,
   "id": "d67a0169-7771-4b29-885a-0e33c5df487e",
   "metadata": {},
   "outputs": [
    {
     "data": {
      "text/plain": [
       "id_cliente             object\n",
       "genero                 object\n",
       "casado                 object\n",
       "event_time             object\n",
       "idade_18_29            object\n",
       "idade_30_39            object\n",
       "idade_40_49            object\n",
       "idade_50_59            object\n",
       "idade_60_69            object\n",
       "idade_70_plus          object\n",
       "num_dias_ativo         object\n",
       "write_time             object\n",
       "api_invocation_time    object\n",
       "is_deleted             object\n",
       "dtype: object"
      ]
     },
     "execution_count": 303,
     "metadata": {},
     "output_type": "execute_result"
    }
   ],
   "source": [
    "df.dtypes"
   ]
  },
  {
   "cell_type": "code",
   "execution_count": 304,
   "id": "ba25affa-e3e2-4f12-b157-03291de31ba0",
   "metadata": {},
   "outputs": [
    {
     "data": {
      "text/plain": [
       "(0, 14)"
      ]
     },
     "execution_count": 304,
     "metadata": {},
     "output_type": "execute_result"
    }
   ],
   "source": [
    "df.shape"
   ]
  },
  {
   "cell_type": "code",
   "execution_count": 299,
   "id": "bec8851b-0d95-44ca-b481-c6f9fe05c5df",
   "metadata": {},
   "outputs": [
    {
     "data": {
      "text/html": [
       "<div>\n",
       "<style scoped>\n",
       "    .dataframe tbody tr th:only-of-type {\n",
       "        vertical-align: middle;\n",
       "    }\n",
       "\n",
       "    .dataframe tbody tr th {\n",
       "        vertical-align: top;\n",
       "    }\n",
       "\n",
       "    .dataframe thead th {\n",
       "        text-align: right;\n",
       "    }\n",
       "</style>\n",
       "<table border=\"1\" class=\"dataframe\">\n",
       "  <thead>\n",
       "    <tr style=\"text-align: right;\">\n",
       "      <th></th>\n",
       "      <th>id_cliente</th>\n",
       "      <th>genero</th>\n",
       "      <th>casado</th>\n",
       "      <th>event_time</th>\n",
       "      <th>idade_18_29</th>\n",
       "      <th>idade_30_39</th>\n",
       "      <th>idade_40_49</th>\n",
       "      <th>idade_50_59</th>\n",
       "      <th>idade_60_69</th>\n",
       "      <th>idade_70_plus</th>\n",
       "      <th>num_dias_ativo</th>\n",
       "      <th>write_time</th>\n",
       "      <th>api_invocation_time</th>\n",
       "      <th>is_deleted</th>\n",
       "    </tr>\n",
       "  </thead>\n",
       "  <tbody>\n",
       "  </tbody>\n",
       "</table>\n",
       "</div>"
      ],
      "text/plain": [
       "Empty DataFrame\n",
       "Columns: [id_cliente, genero, casado, event_time, idade_18_29, idade_30_39, idade_40_49, idade_50_59, idade_60_69, idade_70_plus, num_dias_ativo, write_time, api_invocation_time, is_deleted]\n",
       "Index: []"
      ]
     },
     "execution_count": 299,
     "metadata": {},
     "output_type": "execute_result"
    }
   ],
   "source": [
    "df.head()"
   ]
  },
  {
   "cell_type": "code",
   "execution_count": 301,
   "id": "ceb4be84-0928-4f0b-87f3-41fd0fe1cb1e",
   "metadata": {},
   "outputs": [],
   "source": [
    "feature_group.ingest_data(df_clientes)"
   ]
  },
  {
   "cell_type": "code",
   "execution_count": null,
   "id": "40a312f0-27d0-402e-8dd0-276ecd43278c",
   "metadata": {},
   "outputs": [],
   "source": []
  },
  {
   "cell_type": "code",
   "execution_count": null,
   "id": "de4b789e-9b41-4e24-bad2-2c43dda56d2e",
   "metadata": {},
   "outputs": [],
   "source": [
    "fg_data = get_feature_group_as_dataframe(\n",
    "    feature_group_name=\"feature_group\",\n",
    "     athena_bucket=\"s3://bucket/athena_queries\",\n",
    "     region=\"us-east-1\",\n",
    "     event_time_feature_name=\"event_time\"\n",
    " )"
   ]
  },
  {
   "cell_type": "code",
   "execution_count": null,
   "id": "5edb95ed-4249-4067-941d-27215c33b31e",
   "metadata": {},
   "outputs": [],
   "source": []
  },
  {
   "cell_type": "code",
   "execution_count": null,
   "id": "be9359c7-92ca-41ba-a812-4f84f7e55464",
   "metadata": {},
   "outputs": [],
   "source": []
  }
 ],
 "metadata": {
  "kernelspec": {
   "display_name": "kernel_fs",
   "language": "python",
   "name": "venv_fs"
  },
  "language_info": {
   "codemirror_mode": {
    "name": "ipython",
    "version": 3
   },
   "file_extension": ".py",
   "mimetype": "text/x-python",
   "name": "python",
   "nbconvert_exporter": "python",
   "pygments_lexer": "ipython3",
   "version": "3.10.17"
  }
 },
 "nbformat": 4,
 "nbformat_minor": 5
}
