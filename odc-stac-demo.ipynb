{
 "cells": [
  {
   "cell_type": "markdown",
   "id": "1572c4ed-7061-43e8-8708-008268de2720",
   "metadata": {},
   "source": [
    "# Primer on using odc-stac/odc-geo\n",
    "\n",
    "With the new releases of `odc-geo` and `odc-stac` there are a lot of new features that make working with geospatial data in a notebook much more pleasant and productive. This notebook walks through some of the features\n",
    "\n",
    "```bash\n",
    "pip install odc-geo==0.2.0 odc-stac==0.3.0\n",
    "# OR\n",
    "mambba install odc-geo==0.2.0 odc-stac==0.3.0\n",
    "```\n",
    "\n",
    "This notebook was tested on [Planetary Computer Hub](https://planetarycomputer.microsoft.com/). It loads 16-days worth of Landsat8 scenes in a UTM zone 33 (covers parts of Europe and Africa). Imagery is loaded at 1km per pixel resolution in Web Mercator projection. We convert pixels to `RGBA<uint8>` by clipping `6_000, 30_000 -> 0, 255` and display result on the map.\n",
    "\n",
    "You can download [this notebook](odc-stac-demo.ipynb) to try it out on your own."
   ]
  },
  {
   "cell_type": "markdown",
   "id": "19024b65-f67a-41ee-a2ad-53eebf7108ca",
   "metadata": {},
   "source": [
    "## Query STAC Items\n",
    "\n",
    "Query 16 days at the start of June 2021. Landsat 8 revisit is 16 days so we should get one observation from each scene in the queried region."
   ]
  },
  {
   "cell_type": "code",
   "execution_count": null,
   "id": "c7440e6a-6bbb-4847-bea0-d2dc68f3de76",
   "metadata": {},
   "outputs": [],
   "source": [
    "import pystac_client\n",
    "\n",
    "catalog = pystac_client.Client.open(\"https://planetarycomputer.microsoft.com/api/stac/v1\")\n",
    "\n",
    "items_all = catalog.search(\n",
    "    collections=[\"landsat-8-c2-l2\"],\n",
    "    datetime=\"2021-06-01T00:00:00Z/2021-06-16T23:59:59Z\",\n",
    "    bbox=[10, -71, 21, 71],\n",
    ").get_all_items()\n",
    "\n",
    "# only keep items in utm=33, to select one tall column of data\n",
    "items = [item for item in items_all if item.properties[\"proj:epsg\"] in [32633, 32733]]\n",
    "print(f\"Using {len(items)} of {len(items_all)} items (utm 33)\")"
   ]
  },
  {
   "cell_type": "markdown",
   "id": "e560737c-4a8a-4bc4-a091-a88e5928cb5f",
   "metadata": {},
   "source": [
    "## Construct Dask Graph\n",
    "\n",
    "Request to load data with `odc.stac.load`.\n",
    "\n",
    "- Only load `red`,`green`,`blue` bands\n",
    "- 1km sized pixels in Web Mercator projection (`EPSG:3857`)\n",
    "- Specify `uint16` pixels `0` marking nodata pixels (this can also be extracted from STAC extension data if configured)\n",
    "- Use `average` resampling for converting to desired projection\n",
    "- Put all items into one pixel plane, using custom groupby (`groupby=`)\n",
    "  - Most of the time you'll use `groupby=\"time\"` or `groupby=\"solar_day\"`\n",
    "- Configure Dask chunking parameters and enable delayed computation (default is to load directly) `chunks=`\n",
    "  - This data is tall an narrow so we only chunk tall dimension\n",
    "- Supply url signing function `patch_url=planetary_computer.sign`\n",
    "  - Data is publicly accessible, but requests need to be signed\n",
    "- Convert to RGBa, replacing missing data with transparent pixels\n",
    "\n",
    "No pixel loading happens yet, this just builds a recipe that we will execute later on."
   ]
  },
  {
   "cell_type": "code",
   "execution_count": null,
   "id": "8bda034e-4189-4e88-ad73-1cf415ec0f41",
   "metadata": {},
   "outputs": [],
   "source": [
    "import planetary_computer\n",
    "from dask.distributed import Client\n",
    "from odc.stac import configure_rio\n",
    "from odc.stac import load as stac_load\n",
    "\n",
    "configure_rio(cloud_defaults=True)  # No need to look for side-car files\n",
    "\n",
    "# fmt: off\n",
    "xx = stac_load(\n",
    "    items,\n",
    "    [\"red\", \"green\", \"blue\"],  # Can be omited, then you'll get all the bancs\n",
    "    #################################################################\n",
    "    # All options below have reasonable defaults derived\n",
    "    # from supplied metadata.\n",
    "    #################################################################\n",
    "    \n",
    "    crs=\"epsg:3857\",       # Defaults to most common CRS across Items\n",
    "    resolution=1000,       # Defaults to native resolution\n",
    "\n",
    "    dtype=\"uint16\",        # Defaults to native pixel type\n",
    "    nodata=0,              # Defaults to native\n",
    "    \n",
    "    resampling=\"average\",  # Default is `nearest`\n",
    "    \n",
    "    # Default is to group by time\n",
    "    # groupby=\"solar_day\", # is often what one wants\n",
    "    groupby=lambda item, parsed, idx: 1, # all items in the same \"group\"\n",
    "    \n",
    "    # Enable and configure Dask\n",
    "    # since each pixel is 1x1km we opt for smaller chunk sizes\n",
    "    # Image will be Tall and narrow, so only chunk along Y\n",
    "    chunks={\"x\": -1, \"y\": 1000},\n",
    "    \n",
    "    # Needed for planetary computer data sources\n",
    "    patch_url=planetary_computer.sign,\n",
    ")\n",
    "# fmt: on\n",
    "\n",
    "thumb = xx.odc.to_rgba(vmin=6_000, vmax=30_000)\n",
    "\n",
    "display(xx)\n",
    "display(thumb)"
   ]
  },
  {
   "cell_type": "code",
   "execution_count": null,
   "id": "cc820bcf-52d8-4cca-9080-ecbad5f28873",
   "metadata": {},
   "outputs": [],
   "source": [
    "# Start local Dask client to run across CPUs\n",
    "#  one can also connect to remote cluster\n",
    "dask_client = Client()"
   ]
  },
  {
   "cell_type": "markdown",
   "id": "1ccf7d26-4350-4131-a5ee-2babd52672aa",
   "metadata": {},
   "source": [
    "### Actually Load and Convert to RGBA\n",
    "\n",
    "Should take about a minute, longer if running from \"home\"."
   ]
  },
  {
   "cell_type": "code",
   "execution_count": null,
   "id": "e32fe266-ea40-44cd-8a5f-3b01996bbbc1",
   "metadata": {},
   "outputs": [],
   "source": [
    "%%time\n",
    "thumb = thumb.compute()"
   ]
  },
  {
   "cell_type": "markdown",
   "id": "51c86f38-0bc9-475f-a8b5-ac844fa8fca2",
   "metadata": {},
   "source": [
    "## Plot Color Image on a Map\n",
    "\n",
    "We use `folium` here, but same works with `ipyleaflet` too.\n",
    "\n",
    "**note**: we are using `webp` compression here to reduce size of rendered notebook. If you don't see an image on a map below it could be that your browser doesn't support webp."
   ]
  },
  {
   "cell_type": "code",
   "execution_count": null,
   "id": "d264a703-b681-479f-a088-1b67fd19fefa",
   "metadata": {},
   "outputs": [],
   "source": [
    "import folium\n",
    "\n",
    "_map = folium.Map()\n",
    "# fmt: off\n",
    "thumb.odc.add_to(\n",
    "    _map,\n",
    "    fmt=\"webp\",        # Default is png, jpeg is also supported\n",
    "    quality=60,        # webp/jpeg quality configuration\n",
    "    max_size=100_000,  # disable further shrinking, keep 1km resolution\n",
    "    opacity=0.90,      # folium layer options are passed-through\n",
    ")\n",
    "# fmt: on\n",
    "_map.fit_bounds(thumb.odc.map_bounds())\n",
    "display(_map)"
   ]
  },
  {
   "cell_type": "markdown",
   "id": "a3d7cd13-be44-4c21-a24d-566ae977da94",
   "metadata": {},
   "source": [
    "## Add Metadata to the Map\n",
    "\n",
    "We can also use `geopandas` to plot stac item metadata on top of imagery. Handy for narrowing down test scenes when looking for experiment sites."
   ]
  },
  {
   "cell_type": "code",
   "execution_count": null,
   "id": "4bfcdf6d-39dd-47f6-9f30-b162b4a9e1d2",
   "metadata": {},
   "outputs": [],
   "source": [
    "import geopandas\n",
    "import pystac\n",
    "\n",
    "items = pystac.ItemCollection(sorted(items, key=lambda x: x.datetime), clone_items=False)\n",
    "df = geopandas.GeoDataFrame.from_features(items.to_dict(), crs=\"epsg:4326\")\n",
    "# https://github.com/geopandas/geopandas/issues/1208\n",
    "df[\"id\"] = [x.id for x in items]\n",
    "df[[\"geometry\", \"id\", \"datetime\", \"landsat:wrs_path\", \"landsat:wrs_row\", \"proj:epsg\"]].explore(\n",
    "    \"landsat:wrs_path\",\n",
    "    style_kwds=dict(fillOpacity=0, width=0.3, opacity=0.3),\n",
    "    popup=True,\n",
    "    categorical=True,\n",
    "    m=_map,\n",
    ")\n",
    "display(_map)"
   ]
  },
  {
   "cell_type": "markdown",
   "id": "5c80a997-1b5c-4b45-bd10-af0e082c26ac",
   "metadata": {},
   "source": [
    "## Review Single Scene\n",
    "\n",
    "Let's have a closer look at one scene in Africa."
   ]
  },
  {
   "cell_type": "code",
   "execution_count": null,
   "id": "f70e45d2-e2ae-4add-ab87-88f3da44a56d",
   "metadata": {},
   "outputs": [],
   "source": [
    "items_179_073 = [\n",
    "    item\n",
    "    for item in items\n",
    "    if (item.properties[\"landsat:wrs_path\"], item.properties[\"landsat:wrs_row\"]) == (\"179\", \"073\")\n",
    "]\n",
    "items_179_073"
   ]
  },
  {
   "cell_type": "markdown",
   "id": "d4c30c86-263e-4453-aa51-ea50b9572652",
   "metadata": {},
   "source": [
    "### Load without using Dask\n",
    "\n",
    "If `chunks=` parameter is not supplied data loading happens locally without using Dask. Concurrency is still suported though, we request to use 4 CPU cores with `pool=4`. Progress can be observed by passing `progress=tqdm` option."
   ]
  },
  {
   "cell_type": "code",
   "execution_count": null,
   "id": "6776542a-ec20-47c0-877f-712a21f03297",
   "metadata": {},
   "outputs": [],
   "source": [
    "from IPython.display import Image\n",
    "from tqdm.auto import tqdm\n",
    "\n",
    "yy = stac_load(\n",
    "    items_179_073,\n",
    "    [\"red\", \"green\", \"blue\", \"nir08\"],\n",
    "    dtype=\"uint16\",\n",
    "    nodata=0,\n",
    "    patch_url=planetary_computer.sign,\n",
    "    pool=4,\n",
    "    progress=tqdm,\n",
    ")\n",
    "\n",
    "# display raster GeoBox\n",
    "# - Loaded in Native projection/resolution\n",
    "yy.odc.geobox"
   ]
  },
  {
   "cell_type": "markdown",
   "id": "a7af74d2-e27b-4323-a271-248e113831d7",
   "metadata": {},
   "source": [
    "### Generate Preview\n",
    "\n",
    "- Convert to RGBA\n",
    "- Shrink image to have no more than 1600 pixels per side using `cubic` resampling\n",
    "- Compress with `jpeg` and display\n",
    "  - `jpeg` does not support transparency so we ask for missing pixels to be white\n",
    "  - Default is `png` that does support transparency and is lossless, but is more heavy in terms of bytes\n",
    "  - Use `webp` when size matters but transparency is also needed (some browsers might not support it though)"
   ]
  },
  {
   "cell_type": "code",
   "execution_count": null,
   "id": "f4e3ec37-c49c-4ad5-b4ed-20523e3ace8d",
   "metadata": {},
   "outputs": [],
   "source": [
    "Image(\n",
    "    data=yy.odc.to_rgba(vmin=6_000, vmax=30_000)\n",
    "    .isel(time=0)\n",
    "    .odc.reproject(yy.odc.geobox.zoom_to(1600), resampling=\"cubic\")\n",
    "    .odc.compress(\"jpeg\", 90, transparent=(255, 255, 255))\n",
    ")"
   ]
  },
  {
   "cell_type": "markdown",
   "id": "0d6c7a15-f4bf-4010-9cfe-9055dc4fea12",
   "metadata": {},
   "source": [
    "### Visualize NIR band\n",
    "\n",
    "Individual bands can be visualized in false colour with `.odc.colorize` method (supports matplotlib colormaps)."
   ]
  },
  {
   "cell_type": "code",
   "execution_count": null,
   "id": "c913a876-472b-4a69-ade7-c28242105598",
   "metadata": {},
   "outputs": [],
   "source": [
    "nir = yy.isel(time=0).nir08\n",
    "Image(\n",
    "    data=nir.odc.reproject(yy.odc.geobox.zoom_to(1600), resampling=\"cubic\")\n",
    "    .odc.colorize(\"magma\")\n",
    "    .odc.compress(\"webp\", 80)\n",
    ")"
   ]
  },
  {
   "cell_type": "markdown",
   "id": "15495e6f-1e60-4c9e-a86f-63f7d5f7aa6b",
   "metadata": {},
   "source": [
    "### Save Images to GeoTIFF\n",
    "\n",
    "Cloud Optimized GeoTIFF (COG) is a popular and well supported format. We can easily save xarrays to COG format."
   ]
  },
  {
   "cell_type": "code",
   "execution_count": null,
   "id": "0a433f9f-132b-4144-b595-83801240b075",
   "metadata": {},
   "outputs": [],
   "source": [
    "fname_rgb = f\"{items_179_073[0].id}-rgba-cog.tif\"\n",
    "fname_nir = f\"{items_179_073[0].id}-nir-cog.tif\"\n",
    "\n",
    "print(f\"Saving {fname_rgb}\")\n",
    "yy.isel(time=0).odc.to_rgba(vmin=6_000, vmax=30_000).odc.write_cog(\n",
    "    fname_rgb,\n",
    "    overwrite=True,\n",
    "    overview_resampling=\"average\",\n",
    "    # there are other options, but we'll leave them as defaults\n",
    ")\n",
    "\n",
    "print(f\"Saving {fname_nir}\")\n",
    "nir.odc.write_cog(\n",
    "    fname_nir,\n",
    "    overwrite=True,\n",
    "    overview_resampling=\"average\",\n",
    "    # change compression to ZSTD (default is DEFLATE)\n",
    "    compress=\"zstd\",\n",
    "    zstd_level=9,\n",
    ")\n",
    "print(\"Done\")"
   ]
  },
  {
   "cell_type": "code",
   "execution_count": null,
   "id": "84a91e75-5797-4503-b35a-062905f34aae",
   "metadata": {},
   "outputs": [],
   "source": [
    "!ls -lh {fname_rgb} {fname_nir}\n",
    "!gdalinfo {fname_rgb}\n",
    "!gdalinfo {fname_nir}"
   ]
  },
  {
   "cell_type": "markdown",
   "id": "bb4a61cb-9ae4-4c47-8165-536b6edbfe53",
   "metadata": {},
   "source": [
    "---------------------------------"
   ]
  },
  {
   "cell_type": "markdown",
   "id": "3dbf6192-6cb4-4da2-a7b8-ca4f40b2c63e",
   "metadata": {},
   "source": [
    "## Dump Versions"
   ]
  },
  {
   "cell_type": "code",
   "execution_count": null,
   "id": "66b7d602-06d3-4e37-83e2-e12d46e7380c",
   "metadata": {},
   "outputs": [],
   "source": [
    "import odc.geo\n",
    "import odc.stac\n",
    "\n",
    "print(f\"odc.stac=={odc.stac.__version__}\")\n",
    "print(f\"odc.geo=={odc.geo.__version__}\")"
   ]
  }
 ],
 "metadata": {
  "jupytext": {
   "formats": "ipynb,py:percent"
  },
  "kernelspec": {
   "display_name": "geospatial",
   "language": "python",
   "name": "python3"
  },
  "language_info": {
   "codemirror_mode": {
    "name": "ipython",
    "version": 3
   },
   "file_extension": ".py",
   "mimetype": "text/x-python",
   "name": "python",
   "nbconvert_exporter": "python",
   "pygments_lexer": "ipython3",
   "version": "3.11.11"
  },
  "widgets": {
   "application/vnd.jupyter.widget-state+json": {
    "state": {},
    "version_major": 2,
    "version_minor": 0
   }
  }
 },
 "nbformat": 4,
 "nbformat_minor": 5
}
