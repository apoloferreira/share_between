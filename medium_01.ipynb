{
 "cells": [
  {
   "cell_type": "code",
   "execution_count": null,
   "id": "adbb71fd",
   "metadata": {},
   "outputs": [],
   "source": [
    "# https://medium.com/@geonextgis/getting-started-with-microsoft-planetary-computer-stac-api-67cbebe96e5e"
   ]
  },
  {
   "cell_type": "code",
   "execution_count": null,
   "id": "e6c5c335",
   "metadata": {},
   "outputs": [],
   "source": [
    "import pystac_client\n",
    "import planetary_computer\n",
    "import odc.stac\n",
    "import matplotlib.pyplot as plt\n",
    "\n",
    "from pystac.extensions.eo import EOExtension as eo"
   ]
  },
  {
   "cell_type": "code",
   "execution_count": null,
   "id": "b5c53209",
   "metadata": {},
   "outputs": [],
   "source": [
    "plt.rcParams['font.family'] = 'DeJavu Serif'\n",
    "plt.rcParams['font.serif'] = ['Times New Roman']\n",
    "plt.rcParams[\"font.size\"] = 14"
   ]
  },
  {
   "cell_type": "code",
   "execution_count": null,
   "id": "a7570cf3",
   "metadata": {},
   "outputs": [],
   "source": [
    "catalog = pystac_client.Client.open(\n",
    "    \"https://planetarycomputer.microsoft.com/api/stac/v1\",\n",
    "    modifier=planetary_computer.sign_inplace\n",
    ")"
   ]
  },
  {
   "cell_type": "code",
   "execution_count": null,
   "id": "ab3e52cc",
   "metadata": {},
   "outputs": [],
   "source": [
    "bbox_of_interest = [77.3521, 12.7235, 77.8477, 13.2186]\n",
    "time_of_interest = \"2022-01-01/2022-12-31\""
   ]
  },
  {
   "cell_type": "code",
   "execution_count": null,
   "id": "53195764",
   "metadata": {},
   "outputs": [],
   "source": [
    "# Query the catalog and sort the filtered image collection based on 'cloud_cover' \n",
    "search = catalog.search(\n",
    "    collections=[\"landsat-c2-l2\"],\n",
    "    bbox=bbox_of_interest,\n",
    "    datetime=time_of_interest,\n",
    "    query={\"eo:cloud_cover\": {\"lt\": 10}},\n",
    "    sortby=[\"eo:cloud_cover\"]\n",
    ")\n",
    "\n",
    "items = search.item_collection()\n",
    "print(f\"Returned {len(items)} Items\")"
   ]
  },
  {
   "cell_type": "code",
   "execution_count": null,
   "id": "1dd4dd4a",
   "metadata": {},
   "outputs": [],
   "source": [
    "# Take the first item with minimum cloud cover\n",
    "selected_item = items[0]\n",
    "\n",
    "print(\n",
    "    f\"Choosing {selected_item.id} from {selected_item.datetime.date()}\"\n",
    "    + f\"with {selected_item.properties['eo:cloud_cover']}% cloud cover\"\n",
    ")"
   ]
  },
  {
   "cell_type": "code",
   "execution_count": null,
   "id": "e5f41d09",
   "metadata": {},
   "outputs": [],
   "source": [
    "for key, asset in selected_item.assets.items():\n",
    "    print(f\"{key}: {asset.title}\")"
   ]
  },
  {
   "cell_type": "code",
   "execution_count": null,
   "id": "b4e4158d",
   "metadata": {},
   "outputs": [],
   "source": [
    "bands_of_interest = [\"nir08\", \"red\", \"green\", \"blue\", \"qa_pixel\", \"lwir11\"]\n",
    "\n",
    "data = odc.stac.stac_load(\n",
    "    [selected_item],\n",
    "    bands=bands_of_interest,\n",
    "    bbox=bbox_of_interest\n",
    ").isel(time=0)"
   ]
  },
  {
   "cell_type": "code",
   "execution_count": null,
   "id": "2248959f",
   "metadata": {},
   "outputs": [],
   "source": [
    "data"
   ]
  },
  {
   "cell_type": "code",
   "execution_count": null,
   "id": "f579dc67",
   "metadata": {},
   "outputs": [],
   "source": [
    "rgb_data_array = data[[\"red\", \"green\", \"blue\"]].to_array()\n",
    "\n",
    "fig, ax = plt.subplots(figsize=(10, 10))\n",
    "rgb_data_array.plot.imshow(robust=True, ax=ax)\n",
    "ax.set_title(\"Natural Color, Bengaluru, Karnataka, India\")"
   ]
  },
  {
   "cell_type": "code",
   "execution_count": null,
   "id": "dd871c7b",
   "metadata": {},
   "outputs": [],
   "source": [
    "sfcc_data_array = data[[\"nir08\", \"red\", \"green\"]].to_array()\n",
    "\n",
    "fig, ax = plt.subplots(figsize=(10, 10))\n",
    "sfcc_data_array.plot.imshow(robust=True, ax=ax)\n",
    "ax.set_title(\"Standard False Color, Bengaluru, Karnataka, India\")"
   ]
  },
  {
   "cell_type": "markdown",
   "id": "92f6cefc",
   "metadata": {},
   "source": [
    "## Render NDVI and NDWI images of the AOI"
   ]
  },
  {
   "cell_type": "code",
   "execution_count": null,
   "id": "b199e83b",
   "metadata": {},
   "outputs": [],
   "source": [
    "green = data[\"green\"].astype(\"float\")\n",
    "red = data[\"red\"].astype(\"float\")\n",
    "nir = data[\"nir08\"].astype(\"float\")\n",
    "\n",
    "ndvi = (nir - red) / (nir + red)\n",
    "ndwi = (green - nir) / (green + nir)\n",
    "\n",
    "fig, axes = plt.subplots(nrows=1, ncols=2, figsize=(28, 12))\n",
    "axes = axes.flatten()\n",
    "\n",
    "ndvi.plot.imshow(ax=axes[0], robust=True, cmap=\"RdYlGn\", add_colorbar=True, cbar_kwargs={\"aspect\": 30, \"pad\": 0.03, \"label\": \"NDVI\"})\n",
    "axes[0].set_title(\"NDVI, Bengaluru, Karnataka, India\")\n",
    "\n",
    "ndwi.plot.imshow(ax=axes[1], robust=True, cmap=\"YlGnBu\", add_colorbar=True, cbar_kwargs={\"aspect\": 30, \"pad\": 0.03, \"label\": \"NDWI\"})\n",
    "axes[1].set_title(\"NDWI, Bengaluru, Karnataka, India\")\n",
    "\n",
    "plt.tight_layout()"
   ]
  },
  {
   "cell_type": "markdown",
   "id": "7eaf1668",
   "metadata": {},
   "source": [
    "## Selecting specific platforms"
   ]
  },
  {
   "cell_type": "code",
   "execution_count": null,
   "id": "dfead3fb",
   "metadata": {},
   "outputs": [],
   "source": [
    "catalog.get_collection(\"landsat-c2-l2\").summaries.to_dict()[\"platform\"]"
   ]
  },
  {
   "cell_type": "code",
   "execution_count": null,
   "id": "fd89509c",
   "metadata": {},
   "outputs": [],
   "source": [
    "search = catalog.search(\n",
    "    collections=[\"landsat-c2-l2\"],\n",
    "    bbox=bbox_of_interest,\n",
    "    datetime=time_of_interest,\n",
    "    query={\n",
    "        \"eo:cloud_cover\": {\"lt\": 10},\n",
    "        \"platform\": {\"in\": ['landsat-8', 'landsat-9']}\n",
    "    },\n",
    "    sortby=[\"eo:cloud_cover\"]\n",
    ")\n",
    "\n",
    "items = search.item_collection()"
   ]
  },
  {
   "cell_type": "markdown",
   "id": "4b35d6b6",
   "metadata": {},
   "source": [
    "## Rescaling Temperature Data"
   ]
  },
  {
   "cell_type": "code",
   "execution_count": null,
   "id": "9ad82544",
   "metadata": {},
   "outputs": [],
   "source": [
    "band_info = selected_item.assets[\"lwir11\"].extra_fields[\"raster:bands\"][0]\n",
    "band_info"
   ]
  },
  {
   "cell_type": "code",
   "execution_count": null,
   "id": "c76af980",
   "metadata": {},
   "outputs": [],
   "source": [
    "temperature = data[\"lwir11\"].astype(\"float\")\n",
    "temperature *= band_info[\"scale\"]\n",
    "temperature += band_info[\"offset\"]\n",
    "temperature"
   ]
  },
  {
   "cell_type": "code",
   "execution_count": null,
   "id": "51ba5be1",
   "metadata": {},
   "outputs": [],
   "source": [
    "celcius = temperature - 273.15\n",
    "\n",
    "plt.figure(figsize=(14, 12))\n",
    "celcius.plot.imshow(cmap=\"magma\", robust=True, cbar_kwargs={\"aspect\": 30, \"pad\": 0.03, \"label\": \"Temperature (°C)\"})\n",
    "plt.title(\"Thermal, Bengaluru, Karnataka, India\")"
   ]
  },
  {
   "cell_type": "code",
   "execution_count": null,
   "id": "4c5bc465",
   "metadata": {},
   "outputs": [],
   "source": []
  },
  {
   "cell_type": "code",
   "execution_count": null,
   "id": "0b5e84f7",
   "metadata": {},
   "outputs": [],
   "source": []
  },
  {
   "cell_type": "code",
   "execution_count": null,
   "id": "c767b9ad",
   "metadata": {},
   "outputs": [],
   "source": []
  }
 ],
 "metadata": {
  "kernelspec": {
   "display_name": "geospatial",
   "language": "python",
   "name": "python3"
  },
  "language_info": {
   "name": "python",
   "version": "3.11.11"
  }
 },
 "nbformat": 4,
 "nbformat_minor": 5
}
